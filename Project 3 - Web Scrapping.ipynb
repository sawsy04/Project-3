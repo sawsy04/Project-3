{
 "cells": [
  {
   "cell_type": "markdown",
   "metadata": {},
   "source": [
    "## Data Collection"
   ]
  },
  {
   "cell_type": "code",
   "execution_count": 1,
   "metadata": {},
   "outputs": [],
   "source": [
    "import requests\n",
    "import time\n",
    "import pandas as pd"
   ]
  },
  {
   "cell_type": "code",
   "execution_count": 2,
   "metadata": {},
   "outputs": [],
   "source": [
    "# The urls of 2 subreddits chosen\n",
    "nosleep = \"https://www.reddit.com/r/nosleep.json\"\n",
    "asianbeauty = \"https://www.reddit.com/r/AsianBeauty.json\"\n"
   ]
  },
  {
   "cell_type": "code",
   "execution_count": 3,
   "metadata": {
    "collapsed": true
   },
   "outputs": [
    {
     "name": "stdout",
     "output_type": "stream",
     "text": [
      "0\n",
      "1\n",
      "2\n",
      "3\n",
      "4\n",
      "5\n",
      "6\n",
      "7\n",
      "8\n",
      "9\n",
      "10\n",
      "11\n",
      "12\n",
      "13\n",
      "14\n",
      "15\n",
      "16\n",
      "17\n",
      "18\n",
      "19\n",
      "20\n",
      "21\n",
      "22\n",
      "23\n",
      "24\n",
      "25\n",
      "26\n",
      "27\n",
      "28\n",
      "29\n",
      "30\n",
      "31\n",
      "32\n",
      "33\n",
      "34\n",
      "35\n",
      "36\n",
      "37\n",
      "38\n",
      "39\n"
     ]
    }
   ],
   "source": [
    "# To get 1000 nosleep post, to loop 40 times\n",
    "headers = {'User-agent': 'E bot 1'}\n",
    "post = []\n",
    "\n",
    "# Setting the after to None since we are starting from the first page\n",
    "after = None\n",
    "for i in range(40):\n",
    "    print(i)\n",
    "    # null parameters for first page\n",
    "    if after == None:\n",
    "        params = {}\n",
    "    # to change parameter after each loop to start from a different page\n",
    "    else:\n",
    "        params = {'after': after}\n",
    "    # Initializing an empty list of posts\n",
    "    res = requests.get(nosleep, params = params, headers = headers)\n",
    "    if res.status_code == 200: # no errors\n",
    "        post_json = res.json()\n",
    "        # To loop through each posts and get only the relevant fields\n",
    "        for j in range(len(post_json['data']['children'])):\n",
    "            post.append({\n",
    "                'subreddit': post_json['data']['children'][j]['data']['subreddit'],\n",
    "                'title': post_json['data']['children'][j]['data']['title'],\n",
    "                'content': post_json['data']['children'][j]['data']['selftext'],\n",
    "                'name': post_json['data']['children'][j]['data']['name']\n",
    "            })\n",
    "        after = post_json['data']['after']   \n",
    "        df = pd.DataFrame(post, columns=['subreddit', 'title', 'content', 'name'])\n",
    "        # changed the name of the csv so my original data will not be overwritten\n",
    "        df.to_csv('./reddit_post_{}.csv'.format(df['subreddit'][0]))\n",
    "\n",
    "    else:\n",
    "        print(res.status_code)\n",
    "        break\n",
    "\n",
    "    time.sleep(3)\n"
   ]
  },
  {
   "cell_type": "code",
   "execution_count": 4,
   "metadata": {
    "collapsed": true
   },
   "outputs": [
    {
     "name": "stdout",
     "output_type": "stream",
     "text": [
      "0\n",
      "1\n",
      "2\n",
      "3\n",
      "4\n",
      "5\n",
      "6\n",
      "7\n",
      "8\n",
      "9\n",
      "10\n",
      "11\n",
      "12\n",
      "13\n",
      "14\n",
      "15\n",
      "16\n",
      "17\n",
      "18\n",
      "19\n",
      "20\n",
      "21\n",
      "22\n",
      "23\n",
      "24\n",
      "25\n",
      "26\n",
      "27\n",
      "28\n",
      "29\n",
      "30\n",
      "31\n",
      "32\n",
      "33\n",
      "34\n",
      "35\n",
      "36\n",
      "37\n",
      "38\n",
      "39\n"
     ]
    }
   ],
   "source": [
    "# To get 1000 asianbeauty post, to loop 40 times\n",
    "headers = {'User-agent': 'E bot 2'}\n",
    "post = []\n",
    "\n",
    "# Setting the after to None since we are starting from the first page\n",
    "after = None\n",
    "for i in range(40):\n",
    "    print(i)\n",
    "    # null parameters for first page\n",
    "    if after == None:\n",
    "        params = {}\n",
    "    # to change parameter after each loop to start from a different page\n",
    "    else:\n",
    "        params = {'after': after}\n",
    "    # Initializing an empty list of posts\n",
    "    res = requests.get(asianbeauty, params = params, headers = headers)\n",
    "    if res.status_code == 200: # no errors\n",
    "        post_json = res.json()\n",
    "        # To loop through each posts and get only the relevant fields\n",
    "        for j in range(len(post_json['data']['children'])):\n",
    "            post.append({\n",
    "                'subreddit': post_json['data']['children'][j]['data']['subreddit'],\n",
    "                'title': post_json['data']['children'][j]['data']['title'],\n",
    "                'content': post_json['data']['children'][j]['data']['selftext'],\n",
    "                'name': post_json['data']['children'][j]['data']['name']\n",
    "            })\n",
    "        after = post_json['data']['after']   \n",
    "        df = pd.DataFrame(post, columns=['subreddit', 'title', 'content', 'name'])\n",
    "        # changed the name of the csv so my original data will not be overwritten\n",
    "        df.to_csv('./reddit_post_{}.csv'.format(df['subreddit'][0]))\n",
    "\n",
    "    else:\n",
    "        print(res.status_code)\n",
    "        break\n",
    "\n",
    "    time.sleep(3)\n"
   ]
  }
 ],
 "metadata": {
  "kernelspec": {
   "display_name": "Python 3",
   "language": "python",
   "name": "python3"
  },
  "language_info": {
   "codemirror_mode": {
    "name": "ipython",
    "version": 3
   },
   "file_extension": ".py",
   "mimetype": "text/x-python",
   "name": "python",
   "nbconvert_exporter": "python",
   "pygments_lexer": "ipython3",
   "version": "3.7.3"
  }
 },
 "nbformat": 4,
 "nbformat_minor": 2
}
